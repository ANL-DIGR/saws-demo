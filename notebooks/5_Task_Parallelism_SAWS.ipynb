{
 "cells": [
  {
   "cell_type": "code",
   "execution_count": 1,
   "metadata": {},
   "outputs": [
    {
     "name": "stdout",
     "output_type": "stream",
     "text": [
      "\n",
      "## You are using the Python ARM Radar Toolkit (Py-ART), an open source\n",
      "## library for working with weather radar data. Py-ART is partly\n",
      "## supported by the U.S. Department of Energy as part of the Atmospheric\n",
      "## Radiation Measurement (ARM) Climate Research Facility, an Office of\n",
      "## Science user facility.\n",
      "##\n",
      "## If you use this software to prepare a publication, please cite:\n",
      "##\n",
      "##     JJ Helmus and SM Collis, JORS 2016, doi: 10.5334/jors.119\n",
      "\n"
     ]
    },
    {
     "name": "stderr",
     "output_type": "stream",
     "text": [
      "/srv/conda/envs/notebook/lib/python3.6/site-packages/pyart/graph/cm.py:104: FutureWarning: elementwise comparison failed; returning scalar instead, but in the future will perform elementwise comparison\n",
      "  if 'red' in spec:\n",
      "/srv/conda/envs/notebook/lib/python3.6/site-packages/pyart/graph/cm_colorblind.py:32: FutureWarning: elementwise comparison failed; returning scalar instead, but in the future will perform elementwise comparison\n",
      "  if 'red' in spec:\n"
     ]
    }
   ],
   "source": [
    "import nexradaws\n",
    "import tempfile\n",
    "import os\n",
    "import shutil\n",
    "import pyart\n",
    "from matplotlib import pyplot as plt\n",
    "from netCDF4 import num2date\n",
    "import numpy as np\n",
    "\n",
    "from dask_kubernetes import KubeCluster\n",
    "from dask.distributed import Client\n",
    "from dask.distributed import wait, progress\n",
    "#import six"
   ]
  },
  {
   "cell_type": "code",
   "execution_count": 2,
   "metadata": {},
   "outputs": [
    {
     "data": {
      "application/vnd.jupyter.widget-view+json": {
       "model_id": "363bc3e38294443ba2365913b893f7ee",
       "version_major": 2,
       "version_minor": 0
      },
      "text/plain": [
       "VBox(children=(HTML(value='<h2>KubeCluster</h2>'), HBox(children=(HTML(value='\\n<div>\\n  <style scoped>\\n    .…"
      ]
     },
     "metadata": {},
     "output_type": "display_data"
    }
   ],
   "source": [
    "#As it can take some time to spin up first start the Dask cluster\n",
    "# Select 20 'workers' under 'manual scaling' menu below and click 'Scale'\n",
    "# Click on the 'Dashboard link' to monitor calculation progress\n",
    "cluster = KubeCluster(n_workers=20)\n",
    "cluster"
   ]
  },
  {
   "cell_type": "code",
   "execution_count": 97,
   "metadata": {},
   "outputs": [],
   "source": [
    "def simple_sum(filename):\n",
    "    try: #catch two common errors\n",
    "        this_dataset = pyart.aux_io.read_odim_h5(filename)\n",
    "        fp = 1\n",
    "        time_start = num2date(this_dataset.time['data'][0], this_dataset.time['units'])\n",
    "        tgates = float(this_dataset.ngates*this_dataset.nrays)\n",
    "        zdat = this_dataset.fields['reflectivity']['data']\n",
    "        fp = 2\n",
    "        z0 = float(len(np.where(zdat > 0.)[0]))/tgates\n",
    "        z10 = float(len(np.where(zdat > 10.)[0]))/tgates\n",
    "        z40 = float(len(np.where(zdat > 40.)[0]))/tgates\n",
    "        \n",
    "        offf = os.path.join(odir,time_start.strftime('grid_%Y%m%d_%H%M.nc'))\n",
    "        \n",
    "        grids = pyart.map.grid_from_radars(this_dataset,(31,801,801),\n",
    "                   ((0.,15000.),(-200000.,200000.),(-200000.,200000.)),\n",
    "                   fields=this_dataset.fields.keys(),\n",
    "                   refl_field='reflectivity', weighting_function='BARNES2')  \n",
    "        \n",
    "        z_prof_mean = grids.fields['reflectivity']['data'].mean(axis=(1,2))\n",
    "        z_prof_max = grids.fields['reflectivity']['data'].max(axis=(1,2))\n",
    "        npts_over = np.array([float(len(np.where(grids.fields['reflectivity']['data'][i, :, :] > 10.)[0]))\\\n",
    "                      for i in range(grids.fields['reflectivity']['data'].shape[0])])\n",
    "        \n",
    "        del this_dataset, grids\n",
    "        rv = (time_start, z0, z10, z40, \n",
    "              z_prof_mean, z_prof_max, npts_over)\n",
    "    except (TypeError, KeyError) as e:\n",
    "        rv = 'error'\n",
    "    return rv\n"
   ]
  },
  {
   "cell_type": "code",
   "execution_count": 5,
   "metadata": {},
   "outputs": [],
   "source": [
    "indir = os.path.expanduser('~/data/20171230/')"
   ]
  },
  {
   "cell_type": "code",
   "execution_count": 6,
   "metadata": {},
   "outputs": [],
   "source": [
    "files = os.listdir(indir)"
   ]
  },
  {
   "cell_type": "code",
   "execution_count": 7,
   "metadata": {},
   "outputs": [],
   "source": [
    "files = [os.path.join(indir, thise) for thise in files]"
   ]
  },
  {
   "cell_type": "code",
   "execution_count": 98,
   "metadata": {},
   "outputs": [
    {
     "name": "stderr",
     "output_type": "stream",
     "text": [
      "/srv/conda/envs/notebook/lib/python3.6/site-packages/ipykernel_launcher.py:9: RuntimeWarning: invalid value encountered in greater\n",
      "  if __name__ == '__main__':\n",
      "/srv/conda/envs/notebook/lib/python3.6/site-packages/ipykernel_launcher.py:10: RuntimeWarning: invalid value encountered in greater\n",
      "  # Remove the CWD from sys.path while we load stuff.\n",
      "/srv/conda/envs/notebook/lib/python3.6/site-packages/ipykernel_launcher.py:11: RuntimeWarning: invalid value encountered in greater\n",
      "  # This is added back by InteractiveShellApp.init_path()\n"
     ]
    },
    {
     "data": {
      "text/plain": [
       "(datetime.datetime(2017, 12, 30, 23, 16, 16),\n",
       " 0.13744560185185184,\n",
       " 0.04423900462962963,\n",
       " 0.000755787037037037,\n",
       " masked_array(data=[8.820873665495709, 8.679233736173526,\n",
       "                    8.571363912260873, 8.314920146833488,\n",
       "                    8.029327250935092, 7.585991764238936,\n",
       "                    7.392412652026301, 7.589048047213856,\n",
       "                    8.146102139545418, 9.167424919435643, 10.2328821351651,\n",
       "                    11.046626465929771, 11.681160356635225,\n",
       "                    12.288708143074581, 13.070286500268384,\n",
       "                    13.505352433970952, 13.635135455710016,\n",
       "                    13.86106144565158, 14.1326353802306,\n",
       "                    14.486265820901444, 15.253306622900174,\n",
       "                    15.27489152774606, 15.105361554457557,\n",
       "                    14.78871043748904, 14.28875732421875,\n",
       "                    14.505856612446959, 14.90974223654032,\n",
       "                    15.059609488967906, 13.852235117975503,\n",
       "                    16.53975360576923, --],\n",
       "              mask=[False, False, False, False, False, False, False, False,\n",
       "                    False, False, False, False, False, False, False, False,\n",
       "                    False, False, False, False, False, False, False, False,\n",
       "                    False, False, False, False, False, False,  True],\n",
       "        fill_value=1e+20),\n",
       " masked_array(data=[61.0, 46.81391906738281, 46.4388313293457,\n",
       "                    45.81901550292969, 45.12892150878906,\n",
       "                    44.52338409423828, 43.97228240966797,\n",
       "                    43.38167953491211, 42.871498107910156,\n",
       "                    41.9021110534668, 40.65001678466797, 39.1840934753418,\n",
       "                    37.594871520996094, 35.90501403808594,\n",
       "                    34.08369827270508, 32.24123764038086,\n",
       "                    31.422460556030273, 30.97501564025879,\n",
       "                    30.82145881652832, 31.09370994567871,\n",
       "                    31.485036849975586, 32.150936126708984,\n",
       "                    33.21106719970703, 35.15719985961914, 32.5,\n",
       "                    29.791269302368164, 31.452655792236328,\n",
       "                    34.11122512817383, 29.0, 21.861783981323242, --],\n",
       "              mask=[False, False, False, False, False, False, False, False,\n",
       "                    False, False, False, False, False, False, False, False,\n",
       "                    False, False, False, False, False, False, False, False,\n",
       "                    False, False, False, False, False, False,  True],\n",
       "        fill_value=1e+20,\n",
       "             dtype=float32),\n",
       " array([62625., 49354., 40431., 40428., 42213., 43182., 42614., 40068.,\n",
       "        35621., 30844., 26553., 23943., 22332., 20649., 18700., 16942.,\n",
       "        15125., 13626., 12032., 10247.,  9006.,  7713.,  6109.,  4901.,\n",
       "         3546.,  2330.,  1687.,  1113.,   572.,   195.,     0.]))"
      ]
     },
     "execution_count": 98,
     "metadata": {},
     "output_type": "execute_result"
    }
   ],
   "source": [
    "simple_sum(files[0])"
   ]
  },
  {
   "cell_type": "code",
   "execution_count": 88,
   "metadata": {},
   "outputs": [],
   "source": [
    "# Attach Dask to the cluster\n",
    "client = Client(cluster)"
   ]
  },
  {
   "cell_type": "code",
   "execution_count": 89,
   "metadata": {},
   "outputs": [
    {
     "data": {
      "text/html": [
       "<table style=\"border: 2px solid white;\">\n",
       "<tr>\n",
       "<td style=\"vertical-align: top; border: 0px solid white\">\n",
       "<h3 style=\"text-align: left;\">Client</h3>\n",
       "<ul style=\"text-align: left; list-style: none; margin: 0; padding: 0;\">\n",
       "  <li><b>Scheduler: </b>tcp://10.51.194.7:35161</li>\n",
       "  <li><b>Dashboard: </b><a href='/user/anl-digr-saws-demo-2o0urxm2/proxy/8787/status' target='_blank'>/user/anl-digr-saws-demo-2o0urxm2/proxy/8787/status</a>\n",
       "</ul>\n",
       "</td>\n",
       "<td style=\"vertical-align: top; border: 0px solid white\">\n",
       "<h3 style=\"text-align: left;\">Cluster</h3>\n",
       "<ul style=\"text-align: left; list-style:none; margin: 0; padding: 0;\">\n",
       "  <li><b>Workers: </b>24</li>\n",
       "  <li><b>Cores: </b>48</li>\n",
       "  <li><b>Memory: </b>168.00 GB</li>\n",
       "</ul>\n",
       "</td>\n",
       "</tr>\n",
       "</table>"
      ],
      "text/plain": [
       "<Client: scheduler='tcp://10.51.194.7:35161' processes=24 cores=48>"
      ]
     },
     "execution_count": 89,
     "metadata": {},
     "output_type": "execute_result"
    }
   ],
   "source": [
    "client"
   ]
  },
  {
   "cell_type": "code",
   "execution_count": 99,
   "metadata": {},
   "outputs": [],
   "source": [
    "future = client.map(simple_sum, files)\n"
   ]
  },
  {
   "cell_type": "code",
   "execution_count": 100,
   "metadata": {},
   "outputs": [
    {
     "data": {
      "application/vnd.jupyter.widget-view+json": {
       "model_id": "f8c1bb7d5cdb4a929ca7ff2c1c6d037c",
       "version_major": 2,
       "version_minor": 0
      },
      "text/plain": [
       "VBox()"
      ]
     },
     "metadata": {},
     "output_type": "display_data"
    }
   ],
   "source": [
    "progress(future)"
   ]
  },
  {
   "cell_type": "code",
   "execution_count": 101,
   "metadata": {},
   "outputs": [],
   "source": [
    "my_data = client.gather(future)"
   ]
  },
  {
   "cell_type": "code",
   "execution_count": 102,
   "metadata": {},
   "outputs": [],
   "source": [
    "#my_data = client.gather(future)"
   ]
  },
  {
   "cell_type": "code",
   "execution_count": 103,
   "metadata": {},
   "outputs": [],
   "source": [
    "#filtered_data = filter(lambda i:not(type(i) is str), my_data)\n",
    "filtered_data = [value for value in my_data if type(value) != str]"
   ]
  },
  {
   "cell_type": "code",
   "execution_count": 104,
   "metadata": {},
   "outputs": [],
   "source": [
    "times = np.array([tpl[0] for tpl in filtered_data])\n",
    "z0 = np.array([tpl[1] for tpl in filtered_data])\n",
    "z10 = np.array([tpl[2] for tpl in filtered_data])\n",
    "z40 = np.array([tpl[3] for tpl in filtered_data])\n",
    "zprof = np.array([tpl[4] for tpl in filtered_data])\n",
    "zprofmax = np.array([tpl[5] for tpl in filtered_data])\n",
    "npts = np.array([tpl[6] for tpl in filtered_data])\n",
    "\n"
   ]
  },
  {
   "cell_type": "code",
   "execution_count": 81,
   "metadata": {},
   "outputs": [],
   "source": [
    "order = np.argsort(times)"
   ]
  },
  {
   "cell_type": "code",
   "execution_count": 25,
   "metadata": {},
   "outputs": [
    {
     "data": {
      "text/plain": [
       "<matplotlib.legend.Legend at 0x7facd7d4b048>"
      ]
     },
     "execution_count": 25,
     "metadata": {},
     "output_type": "execute_result"
    },
    {
     "data": {
      "image/png": "[encoded data removed]",
      "text/plain": [
       "<Figure size 720x360 with 1 Axes>"
      ]
     },
     "metadata": {
      "needs_background": "light"
     },
     "output_type": "display_data"
    }
   ],
   "source": [
    "my_fig = plt.figure(figsize=[10,5])\n",
    "plt.plot(times, z0, '.k', label='0dBz')\n",
    "plt.plot(times, z10, '.b', label='10dBz')\n",
    "plt.plot(times, z40, '.r', label='40dBz')\n",
    "plt.ylabel('ngates')\n",
    "plt.xlabel('Time')\n",
    "plt.legend()"
   ]
  },
  {
   "cell_type": "code",
   "execution_count": 87,
   "metadata": {},
   "outputs": [
    {
     "data": {
      "text/plain": [
       "<matplotlib.colorbar.Colorbar at 0x7f1a643f29e8>"
      ]
     },
     "execution_count": 87,
     "metadata": {},
     "output_type": "execute_result"
    },
    {
     "data": {
      "image/png": "[encoded data removed]",
      "text/plain": [
       "<Figure size 936x576 with 2 Axes>"
      ]
     },
     "metadata": {
      "needs_background": "light"
     },
     "output_type": "display_data"
    }
   ],
   "source": [
    "fig = plt.figure(figsize=[13,8])\n",
    "plt.pcolormesh(times[order], range(31), zprof[order].transpose(),\n",
    "              cmap=pyart.graph.cm_colorblind.HomeyerRainbow)\n",
    "plt.colorbar()"
   ]
  },
  {
   "cell_type": "code",
   "execution_count": 107,
   "metadata": {},
   "outputs": [
    {
     "data": {
      "text/plain": [
       "<matplotlib.colorbar.Colorbar at 0x7f1a63cd9208>"
      ]
     },
     "execution_count": 107,
     "metadata": {},
     "output_type": "execute_result"
    },
    {
     "data": {
      "image/png": "[encoded data removed]",
      "text/plain": [
       "<Figure size 936x576 with 2 Axes>"
      ]
     },
     "metadata": {
      "needs_background": "light"
     },
     "output_type": "display_data"
    }
   ],
   "source": [
    "fig = plt.figure(figsize=[13,8])\n",
    "plt.pcolormesh(times[order], range(31), zprofmax[order].transpose(), vmin=0, vmax=65,\n",
    "               cmap=pyart.graph.cm_colorblind.HomeyerRainbow)\n",
    "plt.colorbar()"
   ]
  },
  {
   "cell_type": "code",
   "execution_count": 108,
   "metadata": {},
   "outputs": [
    {
     "data": {
      "text/plain": [
       "<matplotlib.colorbar.Colorbar at 0x7f1a63c0a940>"
      ]
     },
     "execution_count": 108,
     "metadata": {},
     "output_type": "execute_result"
    },
    {
     "data": {
      "image/png": "[encoded data removed]",
      "text/plain": [
       "<Figure size 936x576 with 2 Axes>"
      ]
     },
     "metadata": {
      "needs_background": "light"
     },
     "output_type": "display_data"
    }
   ],
   "source": [
    "fig = plt.figure(figsize=[13,8])\n",
    "plt.pcolormesh(times[order], range(31), npts[order].transpose()/(801**2),\n",
    "               cmap=pyart.graph.cm_colorblind.HomeyerRainbow)\n",
    "plt.colorbar()"
   ]
  },
  {
   "cell_type": "code",
   "execution_count": 92,
   "metadata": {},
   "outputs": [],
   "source": [
    "z_prof_max = grids.fields['reflectivity']['data'].max(axis=(1,2))"
   ]
  },
  {
   "cell_type": "code",
   "execution_count": 95,
   "metadata": {},
   "outputs": [],
   "source": [
    "npts_over = np.array([float(len(np.where(grids.fields['reflectivity']['data'][i, :, :] > 10.)[0]))\\\n",
    "                      for i in range(grids.fields['reflectivity']['data'].shape[0])])"
   ]
  },
  {
   "cell_type": "code",
   "execution_count": 96,
   "metadata": {},
   "outputs": [
    {
     "data": {
      "text/plain": [
       "array([ 98955., 102730., 109463., 115107., 118935., 121595., 123520.,\n",
       "       125254., 126345., 127173., 127469., 127677., 128414., 129558.,\n",
       "       129829., 129265., 127407., 124347., 119607., 110953., 100713.,\n",
       "        88332.,  73789.,  58820.,  42880.,  28001.,  18838.,  11634.,\n",
       "         6548.,   3330.,   1828.])"
      ]
     },
     "execution_count": 96,
     "metadata": {},
     "output_type": "execute_result"
    }
   ],
   "source": [
    "npts_over"
   ]
  },
  {
   "cell_type": "code",
   "execution_count": null,
   "metadata": {},
   "outputs": [],
   "source": []
  }
 ],
 "metadata": {
  "kernelspec": {
   "display_name": "Python 3",
   "language": "python",
   "name": "python3"
  },
  "language_info": {
   "codemirror_mode": {
    "name": "ipython",
    "version": 3
   },
   "file_extension": ".py",
   "mimetype": "text/x-python",
   "name": "python",
   "nbconvert_exporter": "python",
   "pygments_lexer": "ipython3",
   "version": "3.6.7"
  }
 },
 "nbformat": 4,
 "nbformat_minor": 4
}
