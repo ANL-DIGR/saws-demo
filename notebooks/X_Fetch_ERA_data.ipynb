{
 "cells": [
  {
   "cell_type": "code",
   "execution_count": 28,
   "metadata": {},
   "outputs": [],
   "source": [
    "#notebook to fetch reanalysis used in example\n",
    "import cdsapi\n",
    "import pyart\n",
    "import os\n",
    "import sys\n",
    "import netCDF4\n",
    "import xarray as xr\n",
    "from matplotlib import pyplot as plt\n",
    "%matplotlib inline"
   ]
  },
  {
   "cell_type": "code",
   "execution_count": 39,
   "metadata": {},
   "outputs": [],
   "source": [
    "#NOTE.. you need a key from ECMWF\n",
    "\n",
    "#populate ~/.cdsapirc with\n",
    "\n",
    "#url: https://cds.climate.copernicus.eu/api/v2\n",
    "#key: YOURKEYHASH\n"
   ]
  },
  {
   "cell_type": "code",
   "execution_count": 13,
   "metadata": {},
   "outputs": [],
   "source": [
    "\n",
    "def make_a_request(year, month, day, area):\n",
    "    request = {'product_type': 'reanalysis',\n",
    "               'format': 'netcdf',\n",
    "               'variable': [\n",
    "                   'divergence', 'fraction_of_cloud_cover', 'geopotential',\n",
    "                   'potential_vorticity', 'relative_humidity',\n",
    "                   'specific_cloud_ice_water_content', 'specific_cloud_liquid_water_content', 'specific_humidity',\n",
    "                   'specific_rain_water_content', 'specific_snow_water_content', 'temperature',\n",
    "                   'u_component_of_wind', 'v_component_of_wind', 'vertical_velocity',\n",
    "                   'vorticity'\n",
    "               ],\n",
    "               'pressure_level': [\n",
    "                   '1', '2', '3',\n",
    "                   '5', '7', '10',\n",
    "                   '20', '30', '50',\n",
    "                   '70', '100', '125',\n",
    "                   '150', '175', '200',\n",
    "                   '225', '250', '300',\n",
    "                   '350', '400', '450',\n",
    "                   '500', '550', '600',\n",
    "                   '650', '700', '750',\n",
    "                   '775', '800', '825',\n",
    "                   '850', '875', '900',\n",
    "                   '925', '950', '975',\n",
    "                   '1000'\n",
    "               ],\n",
    "               'year': year,\n",
    "               'month': month,\n",
    "               'day': day,\n",
    "               'area': area,#\"37.00/-94.00/24.00/-75.00\"[60, -10, 50, 2], # North, West, South, East. Default: global\n",
    "               'time': [\n",
    "                   '00:00', '01:00', '02:00',\n",
    "                   '03:00', '04:00', '05:00',\n",
    "                   '06:00', '07:00', '08:00',\n",
    "                   '09:00', '10:00', '11:00',\n",
    "                   '12:00', '13:00', '14:00',\n",
    "                   '15:00', '16:00', '17:00',\n",
    "                   '18:00', '19:00', '20:00',\n",
    "                   '21:00', '22:00', '23:00'\n",
    "               ]\n",
    "               }\n",
    "\n",
    "    return request"
   ]
  },
  {
   "cell_type": "code",
   "execution_count": 3,
   "metadata": {},
   "outputs": [],
   "source": [
    "radar = pyart.aux_io.read_odim_h5(os.path.expanduser('~/data/20171230/20171230_172408_FAIRS.h5'))"
   ]
  },
  {
   "cell_type": "code",
   "execution_count": 9,
   "metadata": {},
   "outputs": [],
   "source": [
    "radartime = netCDF4.num2date(0, radar.time['units'])"
   ]
  },
  {
   "cell_type": "code",
   "execution_count": 11,
   "metadata": {},
   "outputs": [],
   "source": [
    "lats = radar.gate_latitude\n",
    "lons = radar.gate_longitude\n",
    "\n",
    "min_lon = lons['data'].min()\n",
    "min_lat = lats['data'].min()\n",
    "max_lat = lats['data'].max()\n",
    "max_lon = lons['data'].max()\n"
   ]
  },
  {
   "cell_type": "code",
   "execution_count": 8,
   "metadata": {},
   "outputs": [
    {
     "data": {
      "text/plain": [
       "2017"
      ]
     },
     "execution_count": 8,
     "metadata": {},
     "output_type": "execute_result"
    }
   ],
   "source": [
    "datetime.year"
   ]
  },
  {
   "cell_type": "code",
   "execution_count": 14,
   "metadata": {},
   "outputs": [
    {
     "name": "stderr",
     "output_type": "stream",
     "text": [
      "2019-08-22 09:33:15,043 INFO Sending request to https://cds.climate.copernicus.eu/api/v2/resources/reanalysis-era5-pressure-levels\n",
      "2019-08-22 09:33:15,511 INFO Request is queued\n",
      "2019-08-22 09:33:16,622 INFO Request is running\n",
      "2019-08-22 09:39:35,169 INFO Request is completed\n",
      "2019-08-22 09:39:35,170 INFO Downloading http://136.156.132.210/cache-compute-0005/cache/data7/adaptor.mars.internal-1566484395.6162243-25414-13-e09cd1db-b4dd-4caa-8d82-c6023025c4d6.nc to /Users/scollis/data/era5_data.nc (5.7M)\n",
      "2019-08-22 09:39:36,680 INFO Download rate 3.8M/s   \n"
     ]
    },
    {
     "data": {
      "text/plain": [
       "Result(content_length=5972884,content_type=application/x-netcdf,location=http://136.156.132.210/cache-compute-0005/cache/data7/adaptor.mars.internal-1566484395.6162243-25414-13-e09cd1db-b4dd-4caa-8d82-c6023025c4d6.nc)"
      ]
     },
     "execution_count": 14,
     "metadata": {},
     "output_type": "execute_result"
    }
   ],
   "source": [
    "c = cdsapi.Client()\n",
    "myreq = make_a_request(radartime.year, radartime.month, radartime.day, [max_lat, min_lon, min_lat, max_lon])\n",
    "c.retrieve(\"reanalysis-era5-pressure-levels\",\n",
    "                   myreq, os.path.expanduser('~/data/era5_data.nc'))"
   ]
  },
  {
   "cell_type": "code",
   "execution_count": 17,
   "metadata": {},
   "outputs": [],
   "source": [
    "dset = xr.load_dataset(os.path.expanduser('~/data/era5_data.nc'))"
   ]
  },
  {
   "cell_type": "code",
   "execution_count": 22,
   "metadata": {},
   "outputs": [
    {
     "data": {
      "text/plain": [
       "<xarray.Dataset>\n",
       "Dimensions:    (latitude: 14, level: 37, longitude: 16, time: 24)\n",
       "Coordinates:\n",
       "  * longitude  (longitude) float32 26.25 26.5 26.75 27.0 ... 29.5 29.75 30.0\n",
       "  * latitude   (latitude) float32 -24.25 -24.5 -24.75 ... -27.0 -27.25 -27.5\n",
       "  * level      (level) int32 1 2 3 5 7 10 20 30 ... 850 875 900 925 950 975 1000\n",
       "  * time       (time) datetime64[ns] 2017-12-30 ... 2017-12-30T23:00:00\n",
       "Data variables:\n",
       "    d          (time, level, latitude, longitude) float32 1.3999203e-05 ... 6.235679e-05\n",
       "    cc         (time, level, latitude, longitude) float32 0.0 0.0 ... 0.0\n",
       "    z          (time, level, latitude, longitude) float32 469350.2 ... 1175.1562\n",
       "    pv         (time, level, latitude, longitude) float32 -0.0019375873 ... 9.0454705e-08\n",
       "    r          (time, level, latitude, longitude) float32 0.0001296997 ... 94.81407\n",
       "    ciwc       (time, level, latitude, longitude) float32 -5.820766e-11 ... -5.820766e-11\n",
       "    clwc       (time, level, latitude, longitude) float32 2.910383e-11 ... 2.910383e-11\n",
       "    q          (time, level, latitude, longitude) float32 3.783498e-06 ... 0.010737446\n",
       "    crwc       (time, level, latitude, longitude) float32 1.4551915e-11 ... 1.4551915e-11\n",
       "    cswc       (time, level, latitude, longitude) float32 5.820766e-11 ... 5.820766e-11\n",
       "    t          (time, level, latitude, longitude) float32 259.15176 ... 297.76465\n",
       "    u          (time, level, latitude, longitude) float32 -64.13893 ... 0.5783882\n",
       "    v          (time, level, latitude, longitude) float32 10.943703 ... -1.2244565\n",
       "    w          (time, level, latitude, longitude) float32 0.0024529696 ... 0.15930533\n",
       "    vo         (time, level, latitude, longitude) float32 2.1184365e-05 ... 1.8591898e-05\n",
       "Attributes:\n",
       "    Conventions:  CF-1.6\n",
       "    history:      2019-08-22 14:39:29 GMT by grib_to_netcdf-2.10.0: /opt/ecmw..."
      ]
     },
     "execution_count": 22,
     "metadata": {},
     "output_type": "execute_result"
    }
   ],
   "source": [
    "dset"
   ]
  },
  {
   "cell_type": "code",
   "execution_count": 25,
   "metadata": {},
   "outputs": [
    {
     "data": {
      "text/plain": [
       "<matplotlib.collections.QuadMesh at 0x133d4eac8>"
      ]
     },
     "execution_count": 25,
     "metadata": {},
     "output_type": "execute_result"
    },
    {
     "data": {
      "image/png": "[encoded data removed]",
      "text/plain": [
       "<Figure size 432x288 with 2 Axes>"
      ]
     },
     "metadata": {
      "needs_background": "light"
     },
     "output_type": "display_data"
    }
   ],
   "source": [
    "dset.t[0].sel(level=1000, method='nearest').plot.pcolormesh()"
   ]
  },
  {
   "cell_type": "code",
   "execution_count": 35,
   "metadata": {},
   "outputs": [],
   "source": [
    "cprof = dset.sel(longitude=28.5, latitude=-26.0, method='nearest')"
   ]
  },
  {
   "cell_type": "code",
   "execution_count": 36,
   "metadata": {},
   "outputs": [
    {
     "data": {
      "text/plain": [
       "[<matplotlib.lines.Line2D at 0x137c1c358>]"
      ]
     },
     "execution_count": 36,
     "metadata": {},
     "output_type": "execute_result"
    },
    {
     "data": {
      "image/png": "[encoded data removed]",
      "text/plain": [
       "<Figure size 432x288 with 1 Axes>"
      ]
     },
     "metadata": {
      "needs_background": "light"
     },
     "output_type": "display_data"
    }
   ],
   "source": [
    "plt.plot( cprof.t[0], cprof.z[0]/(9.8*1000.0))"
   ]
  },
  {
   "cell_type": "code",
   "execution_count": 38,
   "metadata": {},
   "outputs": [
    {
     "data": {
      "text/plain": [
       "[<matplotlib.lines.Line2D at 0x137bfb400>]"
      ]
     },
     "execution_count": 38,
     "metadata": {},
     "output_type": "execute_result"
    },
    {
     "data": {
      "image/png": "[encoded data removed]",
      "text/plain": [
       "<Figure size 432x288 with 1 Axes>"
      ]
     },
     "metadata": {
      "needs_background": "light"
     },
     "output_type": "display_data"
    }
   ],
   "source": [
    "plt.plot( cprof.u[0], cprof.z[0]/(9.8*1000.0))\n",
    "plt.plot( cprof.v[0], cprof.z[0]/(9.8*1000.0))\n"
   ]
  },
  {
   "cell_type": "code",
   "execution_count": null,
   "metadata": {},
   "outputs": [],
   "source": []
  }
 ],
 "metadata": {
  "kernelspec": {
   "display_name": "Python 3",
   "language": "python",
   "name": "python3"
  },
  "language_info": {
   "codemirror_mode": {
    "name": "ipython",
    "version": 3
   },
   "file_extension": ".py",
   "mimetype": "text/x-python",
   "name": "python",
   "nbconvert_exporter": "python",
   "pygments_lexer": "ipython3",
   "version": "3.6.7"
  }
 },
 "nbformat": 4,
 "nbformat_minor": 2
}
