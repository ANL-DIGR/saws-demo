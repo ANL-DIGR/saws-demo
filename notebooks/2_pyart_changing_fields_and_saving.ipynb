{
 "cells": [
  {
   "cell_type": "markdown",
   "metadata": {},
   "source": [
    "## Py-ART 2.0: Field manipulation and Saving the Radar Object to a file.\n",
    "\n",
    "In this section we will go over the basics of how to change the data inside a radar file and save a new radar file. We will do this by creating a new field that stores a reflectivity mask."
   ]
  },
  {
   "cell_type": "code",
   "execution_count": null,
   "metadata": {},
   "outputs": [],
   "source": [
    "import pyart\n",
    "import numpy as np\n",
    "import os\n",
    "from matplotlib import pyplot as plt\n",
    "\n",
    "%matplotlib inline"
   ]
  },
  {
   "cell_type": "code",
   "execution_count": null,
   "metadata": {},
   "outputs": [],
   "source": [
    "# If the ~/data directory has not been populated run this line\n",
    "!cd\n",
    "!bash ~/binder/start"
   ]
  },
  {
   "cell_type": "markdown",
   "metadata": {},
   "source": [
    "As before, we will load our trusty radar file!"
   ]
  },
  {
   "cell_type": "code",
   "execution_count": null,
   "metadata": {},
   "outputs": [],
   "source": [
    "radar = pyart.io.read(os.path.expanduser('~/data/arm/csapr_test_case.nc'))"
   ]
  },
  {
   "cell_type": "markdown",
   "metadata": {},
   "source": [
    "Let's store the radar field into a variable."
   ]
  },
  {
   "cell_type": "code",
   "execution_count": null,
   "metadata": {},
   "outputs": [],
   "source": [
    "ref_field = radar.fields['reflectivity']['data']"
   ]
  },
  {
   "cell_type": "markdown",
   "metadata": {},
   "source": [
    "To create an array that is zero when the condition is false and one when it is true, we can make use of the np.ma.where command."
   ]
  },
  {
   "cell_type": "code",
   "execution_count": null,
   "metadata": {},
   "outputs": [],
   "source": [
    "ref_gt_0 = np.ma.where(ref_field > 0, 1, 0)\n",
    "print(ref_gt_0)"
   ]
  },
  {
   "cell_type": "markdown",
   "metadata": {},
   "source": [
    "To create a new field, we need to create a dictionary with keys containing the data, the long name, the units, the fill value, and the standard name."
   ]
  },
  {
   "cell_type": "code",
   "execution_count": null,
   "metadata": {},
   "outputs": [],
   "source": [
    "mask_dict = {'data': ref_gt_0, 'units': '0 = Z < 0, 1 = Z >= 0', 'long_name': 'reflectivity_mask',\n",
    "             '_FillValue': ref_gt_0.fill_value, 'standard_name': 'reflectivity_mask'}"
   ]
  },
  {
   "cell_type": "markdown",
   "metadata": {},
   "source": [
    "Adding this field into the radar object is as simple as doing radar.add_field()!"
   ]
  },
  {
   "cell_type": "code",
   "execution_count": null,
   "metadata": {},
   "outputs": [],
   "source": [
    "radar.add_field('reflectivity_mask', mask_dict, replace_existing=True)"
   ]
  },
  {
   "cell_type": "markdown",
   "metadata": {},
   "source": [
    "We can now plot the field using RadarMapDisplayCartopy!"
   ]
  },
  {
   "cell_type": "code",
   "execution_count": null,
   "metadata": {},
   "outputs": [],
   "source": [
    "plt.figure(figsize=[12, 8])\n",
    "display = pyart.graph.RadarMapDisplay(radar)\n",
    "display.plot_ppi_map('reflectivity_mask', cmap='coolwarm', vmin=0, vmax=1)"
   ]
  },
  {
   "cell_type": "markdown",
   "metadata": {},
   "source": [
    "As you can see, we have now located all of the regions where the reflectivity is greater than 0 dBZ."
   ]
  },
  {
   "cell_type": "code",
   "execution_count": null,
   "metadata": {},
   "outputs": [],
   "source": [
    "plt.figure(figsize=[12, 8])\n",
    "display.plot_ppi_map('reflectivity', cmap='pyart_HomeyerRainbow', vmin=-10, vmax=60)"
   ]
  },
  {
   "cell_type": "markdown",
   "metadata": {},
   "source": [
    "Writing this radar object to a new file is as simple as uing pyart.io.write_cfradial()!"
   ]
  },
  {
   "cell_type": "code",
   "execution_count": null,
   "metadata": {},
   "outputs": [],
   "source": [
    "pyart.io.write_cfradial(os.path.expanduser('~/data/arm/new_radar.nc'), radar)"
   ]
  },
  {
   "cell_type": "markdown",
   "metadata": {},
   "source": [
    "Now, if you look in the data folder within the pyart_short_course, you should see new_radar.nc"
   ]
  },
  {
   "cell_type": "markdown",
   "metadata": {},
   "source": [
    "## Exercise\n",
    "\n",
    "Create a field that is zero when the normalized coherent power is < 0.5 and is one when it is > 0.5"
   ]
  },
  {
   "cell_type": "code",
   "execution_count": null,
   "metadata": {},
   "outputs": [],
   "source": []
  },
  {
   "cell_type": "code",
   "execution_count": null,
   "metadata": {},
   "outputs": [],
   "source": [
    "# %load section_2_answer.py\n",
    "ncp_field = radar.fields['normalized_coherent_power']['data']\n",
    "ncp_gt_0 = np.ma.where(ncp_field > 0, 1, 0)\n",
    "mask_dict = {'data': ref_gt_0, 'units': '0 = NCP < 0.5, 1 = NCP >= 0.5',\n",
    "             'long_name': 'normalied_coherent_power_mask',\n",
    "             '_FillValue': ref_gt_0.fill_value, 'standard_name': 'ncp_mask'}\n",
    "radar.add_field('ncp_mask', mask_dict, replace_existing=True)\n",
    "display = pyart.graph.RadarMapDisplayCartopy(radar)\n",
    "display.plot_ppi_map('ncp_mask', cmap='coolwarm', vmin=0, vmax=1)\n"
   ]
  },
  {
   "cell_type": "code",
   "execution_count": null,
   "metadata": {},
   "outputs": [],
   "source": []
  }
 ],
 "metadata": {
  "kernelspec": {
   "display_name": "Python 3",
   "language": "python",
   "name": "python3"
  },
  "language_info": {
   "codemirror_mode": {
    "name": "ipython",
    "version": 3
   },
   "file_extension": ".py",
   "mimetype": "text/x-python",
   "name": "python",
   "nbconvert_exporter": "python",
   "pygments_lexer": "ipython3",
   "version": "3.6.7"
  }
 },
 "nbformat": 4,
 "nbformat_minor": 2
}
